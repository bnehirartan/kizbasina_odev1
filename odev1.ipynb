{
 "cells": [
  {
   "cell_type": "code",
   "execution_count": 4,
   "id": "a1270f02-aad7-4f4f-a0cd-6f234b8daae2",
   "metadata": {},
   "outputs": [
    {
     "name": "stdin",
     "output_type": "stream",
     "text": [
      "Number:  0\n"
     ]
    },
    {
     "name": "stdout",
     "output_type": "stream",
     "text": [
      "Zero\n"
     ]
    }
   ],
   "source": [
    "#1\n",
    "num= int (input(\"Number: \"))\n",
    "if num >0:\n",
    "    print(\"Positive\")\n",
    "elif num<0:\n",
    "    print(\"Negative\")\n",
    "else: \n",
    "    print(\"Zero\"),"
   ]
  },
  {
   "cell_type": "code",
   "execution_count": 7,
   "id": "7afa8bfc-45aa-4493-be4f-a2234459d873",
   "metadata": {},
   "outputs": [
    {
     "name": "stdout",
     "output_type": "stream",
     "text": [
      "Çift sayı \n"
     ]
    }
   ],
   "source": [
    "#2\n",
    "if num %2 ==0:\n",
    "    print(\"Çift sayı \")\n",
    "else:\n",
    "    pritn (\"Tek sayı \")"
   ]
  },
  {
   "cell_type": "code",
   "execution_count": 8,
   "id": "38064284-82b3-49e8-979a-971d4fc843d3",
   "metadata": {},
   "outputs": [
    {
     "name": "stdin",
     "output_type": "stream",
     "text": [
      "Notunuzu girin (0-100):  65\n"
     ]
    },
    {
     "name": "stdout",
     "output_type": "stream",
     "text": [
      "Harf Notu: B\n"
     ]
    }
   ],
   "source": [
    "#3\n",
    "grade = int(input(\"Notunuzu girin (0-100): \"))\n",
    "if 80 <= grade <= 100:\n",
    "    print(\"Harf Notu: A\")\n",
    "elif 60 <= grade < 80:\n",
    "    print(\"Harf Notu: B\")\n",
    "elif 40 <= grade < 60:\n",
    "    print(\"Harf Notu: C\")\n",
    "elif 20 <= grade < 40:\n",
    "    print(\"Harf Notu: D\")\n",
    "else:\n",
    "    print(\"Harf Notu: F\")"
   ]
  },
  {
   "cell_type": "code",
   "execution_count": 9,
   "id": "9f6daa97-b66b-4a97-aa41-ef824fd93a06",
   "metadata": {},
   "outputs": [
    {
     "name": "stdin",
     "output_type": "stream",
     "text": [
      "İsminizi girin:  nehir\n"
     ]
    },
    {
     "name": "stdout",
     "output_type": "stream",
     "text": [
      "İsminiz: nehir\n"
     ]
    }
   ],
   "source": [
    "#4\n",
    "name = input(\"İsminizi girin: \")\n",
    "if len(name) > 5:\n",
    "    print(\"Uzun bir isminiz var\")\n",
    "else:\n",
    "    print(\"İsminiz:\", name)"
   ]
  },
  {
   "cell_type": "code",
   "execution_count": 10,
   "id": "dcd6c009-1d90-411c-bc1b-aed45226af21",
   "metadata": {},
   "outputs": [
    {
     "name": "stdout",
     "output_type": "stream",
     "text": [
      "0 asal değildir. \n"
     ]
    }
   ],
   "source": [
    "#5.1\n",
    "asal=True\n",
    "if num<2:\n",
    "    asal=False\n",
    "else:\n",
    "    for i in range(2, int(num**0.5)+1):\n",
    "        if num % i ==0:\n",
    "            asal = False\n",
    "            break\n",
    "if asal:\n",
    "    print(f\"{num} bir asal sayıdır. \")\n",
    "else:\n",
    "    print(f\"{num} asal değildir. \")\n",
    "    "
   ]
  },
  {
   "cell_type": "code",
   "execution_count": 11,
   "id": "af8ae643-351a-4971-bf8f-91043265118b",
   "metadata": {},
   "outputs": [
    {
     "name": "stdout",
     "output_type": "stream",
     "text": [
      "0 asal değildir.\n"
     ]
    }
   ],
   "source": [
    "#5.2\n",
    "asal=True\n",
    "i=2\n",
    "if num<2:\n",
    "    asal=False\n",
    "else: \n",
    "    while i< int(num**0.5):\n",
    "        if num%i==0:\n",
    "            asal=False\n",
    "            break\n",
    "        i+=1\n",
    "if asal:\n",
    "    print(f\"{num} bir asal sayıdır\")\n",
    "else:\n",
    "    print(f\"{num} asal değildir.\")"
   ]
  },
  {
   "cell_type": "code",
   "execution_count": 12,
   "id": "e751fd36-80da-45a1-ac11-e8f166265487",
   "metadata": {},
   "outputs": [
    {
     "name": "stdout",
     "output_type": "stream",
     "text": [
      "Index of 75:  2\n"
     ]
    }
   ],
   "source": [
    "#6\n",
    "notlar= [45,85,75,50]\n",
    "toplam=0\n",
    "for i in range(len(notlar)):\n",
    "    if notlar[i]==75:\n",
    "        print(\"Index of 75: \",i)\n",
    "        break"
   ]
  },
  {
   "cell_type": "code",
   "execution_count": 16,
   "id": "92d98b27-26dc-4702-84e8-b51198a9e675",
   "metadata": {},
   "outputs": [
    {
     "name": "stdin",
     "output_type": "stream",
     "text": [
      "Number:  9\n"
     ]
    },
    {
     "name": "stdout",
     "output_type": "stream",
     "text": [
      "9! = 362880\n"
     ]
    }
   ],
   "source": [
    "#7\n",
    "fact = int(input(\"Number: \"))\n",
    "factorial=1\n",
    "for i in range(1,fact+1):\n",
    "    factorial*=i\n",
    "print(f\"{fact}! = {factorial}\")\n"
   ]
  },
  {
   "cell_type": "code",
   "execution_count": 18,
   "id": "577372e9-767b-4c07-a147-6fb8ee7381e5",
   "metadata": {},
   "outputs": [
    {
     "name": "stdin",
     "output_type": "stream",
     "text": [
      "Number:  -2\n",
      "Number:  -4\n",
      "Number:  0\n",
      "Number:  1\n"
     ]
    },
    {
     "name": "stdout",
     "output_type": "stream",
     "text": [
      "Number: 1\n"
     ]
    }
   ],
   "source": [
    "#8\n",
    "while True:\n",
    "    num =int(input(\"Number: \"))\n",
    "    if num>0:\n",
    "        print(\"Number:\",num)\n",
    "        break\n"
   ]
  },
  {
   "cell_type": "code",
   "execution_count": 22,
   "id": "5b8f6578-1188-4b5b-8e52-646158954bdb",
   "metadata": {},
   "outputs": [
    {
     "name": "stdin",
     "output_type": "stream",
     "text": [
      "Number: 12\n"
     ]
    },
    {
     "name": "stdout",
     "output_type": "stream",
     "text": [
      "False\n"
     ]
    }
   ],
   "source": [
    "#9\n",
    "def is_prime(n):\n",
    "    if n<2:\n",
    "        return False\n",
    "    for i in range(2, int(n**0.5)+1):\n",
    "        if n%i==0:\n",
    "            return False\n",
    "    return True\n",
    "\n",
    "print(is_prime(int(input(\"Number:\"))))"
   ]
  },
  {
   "cell_type": "code",
   "execution_count": 24,
   "id": "dd4973e1-5de9-4996-ac53-ff8b05711094",
   "metadata": {},
   "outputs": [
    {
     "name": "stdin",
     "output_type": "stream",
     "text": [
      "Number:  12\n"
     ]
    },
    {
     "name": "stdout",
     "output_type": "stream",
     "text": [
      "479001600\n"
     ]
    }
   ],
   "source": [
    "#10.1\n",
    "def fact_for(n):\n",
    "    result=1\n",
    "    for i in range(1,n+1):\n",
    "        result*=i\n",
    "    return result \n",
    "\n",
    "print(fact_for(int(input(\"Number: \"))))"
   ]
  },
  {
   "cell_type": "code",
   "execution_count": 25,
   "id": "22f117d6-ed2e-4d10-8cfa-01738b85b3fb",
   "metadata": {},
   "outputs": [
    {
     "name": "stdin",
     "output_type": "stream",
     "text": [
      "Number:  1\n"
     ]
    },
    {
     "name": "stdout",
     "output_type": "stream",
     "text": [
      "1\n"
     ]
    }
   ],
   "source": [
    "#10.2\n",
    "def fact_while(n):\n",
    "    result=1\n",
    "    i=1\n",
    "    while i<=n:\n",
    "        result *=i\n",
    "        i+=1\n",
    "    return result\n",
    "\n",
    "print(fact_while(int(input(\"Number: \"))))"
   ]
  },
  {
   "cell_type": "code",
   "execution_count": null,
   "id": "3f063602-f009-455d-b7f0-64642fc0f764",
   "metadata": {},
   "outputs": [],
   "source": []
  }
 ],
 "metadata": {
  "kernelspec": {
   "display_name": "Python 3 (ipykernel)",
   "language": "python",
   "name": "python3"
  },
  "language_info": {
   "codemirror_mode": {
    "name": "ipython",
    "version": 3
   },
   "file_extension": ".py",
   "mimetype": "text/x-python",
   "name": "python",
   "nbconvert_exporter": "python",
   "pygments_lexer": "ipython3",
   "version": "3.11.8"
  }
 },
 "nbformat": 4,
 "nbformat_minor": 5
}
